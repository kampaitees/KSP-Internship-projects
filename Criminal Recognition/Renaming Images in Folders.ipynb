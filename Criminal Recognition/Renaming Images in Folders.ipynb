{
 "cells": [
  {
   "cell_type": "code",
   "execution_count": null,
   "metadata": {},
   "outputs": [],
   "source": [
    "#folder which we want to rename\n",
    "folder = 'Images for Face Recongnition'\n",
    "\n",
    "for root, dirs, files in os.walk(folder):\n",
    "    for i,f in enumerate(files):\n",
    "        \n",
    "        #original name of images\n",
    "        absname = os.path.join(root, f)\n",
    "        \n",
    "        #name we want to replace with\n",
    "        name = str(int(i)+1)+'.jpg'\n",
    "        \n",
    "        newname = os.path.join(root, name)\n",
    "        \n",
    "        #renaming images in provided folder\n",
    "        os.rename(absname, newname)"
   ]
  }
 ],
 "metadata": {
  "kernelspec": {
   "display_name": "Python 3",
   "language": "python",
   "name": "python3"
  },
  "language_info": {
   "codemirror_mode": {
    "name": "ipython",
    "version": 3
   },
   "file_extension": ".py",
   "mimetype": "text/x-python",
   "name": "python",
   "nbconvert_exporter": "python",
   "pygments_lexer": "ipython3",
   "version": "3.6.8"
  }
 },
 "nbformat": 4,
 "nbformat_minor": 2
}
