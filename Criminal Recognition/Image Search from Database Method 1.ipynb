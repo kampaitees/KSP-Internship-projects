{
 "cells": [
  {
   "cell_type": "code",
   "execution_count": 1,
   "metadata": {},
   "outputs": [
    {
     "name": "stderr",
     "output_type": "stream",
     "text": [
      "Using TensorFlow backend.\n",
      "c:\\users\\rishi sharma\\appdata\\local\\programs\\python\\python36\\lib\\site-packages\\keras\\engine\\saving.py:292: UserWarning: No training configuration found in save file: the model was *not* compiled. Compile it manually.\n",
      "  warnings.warn('No training configuration found in save file: '\n"
     ]
    }
   ],
   "source": [
    "#importing dependencies\n",
    "\n",
    "#importing Opencv for preprocessing\n",
    "import cv2\n",
    "\n",
    "#importing Dlib for face detction and face alignment\n",
    "import dlib\n",
    "\n",
    "#importing numpy for doing mathematical operation\n",
    "import numpy as np\n",
    "\n",
    "#importing load_model function from model module to load our saved model\n",
    "from keras.models import load_model\n",
    "\n",
    "#importing matplotlib for seeing input and output image\n",
    "import matplotlib.pyplot as plt\n",
    "\n",
    "#importing scipy for calculating the similarity between images\n",
    "from scipy import spatial\n",
    "\n",
    "#loading trained model on images\n",
    "model = load_model('facenet_keras.h5')\n",
    "\n",
    "#creating dlib detector to detct face from input image\n",
    "detector = dlib.get_frontal_face_detector()\n",
    "\n",
    "#creaeting dlib predcitor to predcit 68 landmarks of input image and then aligning images\n",
    "predictor = dlib.shape_predictor('shape_predictor_68_face_landmarks.dat')\n",
    "\n",
    "#image path which is to be searched in database\n",
    "image_path, image_name = 'Test Images/153.jpg', 153"
   ]
  },
  {
   "cell_type": "code",
   "execution_count": 2,
   "metadata": {},
   "outputs": [],
   "source": [
    "#required function for doing facial recignition and face alignment\n",
    "\n",
    "#function to input in image, do it's alignment then return 128D embedding which contain important features about image which determines it's identity\n",
    "def extract_face_and_get_embedding(filename, required_size, model, i):\n",
    "    \n",
    "    #taking in input image and changing it to RGB format as in OpenCv it is in BGR format\n",
    "    img = cv2.imread(filename)\n",
    "    img = cv2.cvtColor(img, cv2.COLOR_BGR2RGB)\n",
    "    \n",
    "    #detecting face from input image\n",
    "    dets = detector(img, 3)\n",
    "\n",
    "    \n",
    "    #counting number of faces in image because if there are no faces then no need to go further\n",
    "    num_faces = len(dets)\n",
    "\n",
    "    #if number of faces == 0 no face found is the output message else we will go further for computation\n",
    "    if num_faces == 0:\n",
    "\n",
    "        print(\"Sorry, there were no faces found in image \", i)\n",
    "\n",
    "    elif num_faces == 1:\n",
    "\n",
    "        faces = dlib.full_object_detections()\n",
    "\n",
    "        #predicting landmarks of detected face from input image\n",
    "        for detection in dets:\n",
    "            faces.append(predictor(img, detection))\n",
    "\n",
    "        #aligning image to get better accuracy while comparing 2 images\n",
    "        #We can play with padding to zoom-in and out to get required image\n",
    "        image = dlib.get_face_chips(img, faces, size = required_size, padding = 0.2)\n",
    "\n",
    "        #converting image to numpy array\n",
    "        image = np.array(image)\n",
    "\n",
    "        #reshaping image to 3D array as output of dlib predictor is 4D array of form 1 x required_size x required_size x 3\n",
    "        image = image.reshape(required_size, required_size, 3)\n",
    "        face_pixels = image.astype('float32')\n",
    "\n",
    "        mean, std = face_pixels.mean(), face_pixels.std()\n",
    "        face_pixels = (face_pixels - mean) / std\n",
    "\n",
    "        samples = np.expand_dims(face_pixels, axis=0)\n",
    "\n",
    "        #predicting the ouput 128D embedding for input image\n",
    "        yhat = model.predict(samples)\n",
    "\n",
    "        return yhat[0]\n",
    "    \n",
    "    else:\n",
    "        \n",
    "        print('More than one number of faces found in image')\n",
    "\n",
    "#function for comparing images in database and predicting top n similar images from database\n",
    "def who_it_is(path_of_image, database, model, i):\n",
    "    \n",
    "    #storing similarity distance in dictionary 'similarity_distance' while storing name as well as distance in list 'list_of_similarity' for later sorting on basis of distance\n",
    "    similarity_distance, list_of_similarity = {}, []\n",
    "    \n",
    "    #getting 128D encoding of input image from our trained model which includes important features, identity as well as important information about input image\n",
    "    encoding = extract_face_and_get_embedding(path_of_image, 160, model, i)\n",
    "    \n",
    "    #initializing min_dist with some random larger number\n",
    "    min_dist = 10\n",
    "    \n",
    "    #if no face is found in image than we are returning flag 1 and None which will tell us that in later function that there is no face in input image\n",
    "    if encoding is None:\n",
    "        list_of_similarity.append((1, None))\n",
    "        return None, list_of_similarity\n",
    "    \n",
    "    #if face is found then we are doing furthur computation\n",
    "    else:\n",
    "        \n",
    "        #searching throughout database and comparing with each image in database\n",
    "        for (name, db_enc) in database.items():\n",
    "            \n",
    "            #if there is image in database where our model is not able to detect any face we are ignoring that image\n",
    "            if db_enc is not None:\n",
    "\n",
    "                #calculating similarity distance between images\n",
    "                dist = spatial.distance.cosine(db_enc, encoding)\n",
    "                \n",
    "                #storing distance for later use\n",
    "                similarity_distance[name] = dist\n",
    "\n",
    "                list_of_similarity.append((dist, name))\n",
    "\n",
    "                #storing image of minimum distacne in the database\n",
    "                if dist < min_dist:\n",
    "\n",
    "                    min_dist = dist\n",
    "                    identity = name\n",
    "\n",
    "        #returning similarity distance(a dictonary)\n",
    "        return similarity_distance, list_of_similarity\n",
    "\n",
    "#function to show top n similar image as well as input image and their similarity distances with their name in database\n",
    "def output(image_path, similarity_distance, list_of_similarity, number_of_images_to_show):\n",
    "    \n",
    "    #showing input image\n",
    "    plt.imshow(cv2.cvtColor(cv2.imread(image_path), cv2.COLOR_BGR2RGB))\n",
    "    plt.title('Input Image')\n",
    "    plt.show()\n",
    "    \n",
    "    if len(list_of_similarity) >= 2 :\n",
    "\n",
    "        #sorting similarity in ascending order to take out top n minimum similarity distances\n",
    "        list_of_similarity.sort()\n",
    "        print('\\n\\n')\n",
    "        #showing best n similar images found from databse\n",
    "        print('TOP '+str(number_of_images_to_show)+' BEST IMAGES FOUND FROM DATABASE ARE :-----')\n",
    "        for i in range(number_of_images_to_show):\n",
    "            print('\\n\\n')\n",
    "            print('Similar Image '+str(i+1)+' found is: '+str(list_of_similarity[i][1])+'.jpg with similarity '+str(round(list_of_similarity[i][0], 2)))\n",
    "            plt.imshow(cv2.cvtColor(cv2.imread('Database/'+str(list_of_similarity[i][1])+'.jpg'), cv2.COLOR_BGR2RGB))\n",
    "            plt.show()\n",
    "            print('\\n\\n')\n",
    "            \n",
    "    else:\n",
    "        print('Sorry!, No face found in image')"
   ]
  },
  {
   "cell_type": "code",
   "execution_count": 32,
   "metadata": {},
   "outputs": [
    {
     "name": "stdout",
     "output_type": "stream",
     "text": [
      "Sorry, there were no faces found in image  10\n",
      "Sorry, there were no faces found in image  26\n",
      "Sorry, there were no faces found in image  33\n",
      "Sorry, there were no faces found in image  41\n",
      "Sorry, there were no faces found in image  58\n",
      "Sorry, there were no faces found in image  90\n",
      "Sorry, there were no faces found in image  96\n",
      "Sorry, there were no faces found in image  125\n",
      "Sorry, there were no faces found in image  144\n",
      "Wall time: 4min 53s\n"
     ]
    }
   ],
   "source": [
    "%%time\n",
    "#creating embeddings of all the images in database and storing in variable 'database' to save at the time of \n",
    "#outputing the images otherwise it will take around 15 min for giving output of each image beacause it has to calculate \n",
    "#embedding each time of whole database.\n",
    "\n",
    "database = {}\n",
    "for i in range(169):\n",
    "    database[i+1] = extract_face_and_get_embedding('Database/'+str(i+1)+'.jpg', 160, model, i+1)"
   ]
  },
  {
   "cell_type": "code",
   "execution_count": 33,
   "metadata": {},
   "outputs": [
    {
     "name": "stdout",
     "output_type": "stream",
     "text": [
      "Sorry, there were no faces found in image  122\n"
     ]
    },
    {
     "data": {
      "image/png": "[encoded data removed]",
      "text/plain": [
       "<Figure size 432x288 with 1 Axes>"
      ]
     },
     "metadata": {
      "needs_background": "light"
     },
     "output_type": "display_data"
    },
    {
     "name": "stdout",
     "output_type": "stream",
     "text": [
      "Sorry!, No face found in image\n"
     ]
    }
   ],
   "source": [
    "#predicting top n images found similar to input image\n",
    "output(image_path, *who_it_is(image_path, database, model, image_name), 4)"
   ]
  },
  {
   "cell_type": "code",
   "execution_count": 14,
   "metadata": {},
   "outputs": [],
   "source": [
    "for i in range(1, 119):\n",
    "    image_path, image_name = 'Test Images/'+str(i)+'.jpg', i\n",
    "    output(image_path, *who_it_is(image_path, database, model, image_name), 2)\n",
    "    print('\\n\\n')"
   ]
  }
 ],
 "metadata": {
  "kernelspec": {
   "display_name": "Python 3",
   "language": "python",
   "name": "python3"
  },
  "language_info": {
   "codemirror_mode": {
    "name": "ipython",
    "version": 3
   },
   "file_extension": ".py",
   "mimetype": "text/x-python",
   "name": "python",
   "nbconvert_exporter": "python",
   "pygments_lexer": "ipython3",
   "version": "3.6.8"
  }
 },
 "nbformat": 4,
 "nbformat_minor": 2
}
